{
 "metadata": {
  "language_info": {
   "codemirror_mode": {
    "name": "ipython",
    "version": 3
   },
   "file_extension": ".py",
   "mimetype": "text/x-python",
   "name": "python",
   "nbconvert_exporter": "python",
   "pygments_lexer": "ipython3",
   "version": "3.8.2-final"
  },
  "orig_nbformat": 2,
  "kernelspec": {
   "name": "python_defaultSpec_1600868831544",
   "display_name": "Python 3.8.2 64-bit"
  }
 },
 "nbformat": 4,
 "nbformat_minor": 2,
 "cells": [
  {
   "source": [
    "!pip3 install ."
   ],
   "cell_type": "code",
   "metadata": {
    "tags": []
   },
   "execution_count": 2,
   "outputs": [
    {
     "output_type": "stream",
     "name": "stdout",
     "text": "Processing /home/niklaskorz/dev/studium/s2tnmt\nRequirement already satisfied: future in /home/niklaskorz/.local/lib/python3.8/site-packages (from joeynmt==0.0.1) (0.18.2)\nRequirement already satisfied: matplotlib in /home/niklaskorz/.local/lib/python3.8/site-packages (from joeynmt==0.0.1) (3.3.2)\nRequirement already satisfied: numpy<1.19.0,>=1.14.5 in /home/niklaskorz/.local/lib/python3.8/site-packages (from joeynmt==0.0.1) (1.18.5)\nRequirement already satisfied: pillow in /home/niklaskorz/.local/lib/python3.8/site-packages (from joeynmt==0.0.1) (7.2.0)\nRequirement already satisfied: pylint in /home/niklaskorz/.local/lib/python3.8/site-packages (from joeynmt==0.0.1) (2.6.0)\nRequirement already satisfied: pyyaml>=5.1 in /usr/lib/python3/dist-packages (from joeynmt==0.0.1) (5.3.1)\nRequirement already satisfied: sacrebleu>=1.3.6 in /home/niklaskorz/.local/lib/python3.8/site-packages (from joeynmt==0.0.1) (1.4.14)\nRequirement already satisfied: seaborn in /home/niklaskorz/.local/lib/python3.8/site-packages (from joeynmt==0.0.1) (0.11.0)\nRequirement already satisfied: setuptools>=41.0.0 in /usr/lib/python3/dist-packages (from joeynmt==0.0.1) (45.2.0)\nRequirement already satisfied: six==1.12 in /home/niklaskorz/.local/lib/python3.8/site-packages (from joeynmt==0.0.1) (1.12.0)\nRequirement already satisfied: subword-nmt in /home/niklaskorz/.local/lib/python3.8/site-packages (from joeynmt==0.0.1) (0.3.7)\nRequirement already satisfied: tensorflow>=1.14 in /home/niklaskorz/.local/lib/python3.8/site-packages (from joeynmt==0.0.1) (2.3.0)\nRequirement already satisfied: torch>=1.1 in /home/niklaskorz/.local/lib/python3.8/site-packages (from joeynmt==0.0.1) (1.6.0)\nRequirement already satisfied: torchaudio==0.6.0 in /home/niklaskorz/.local/lib/python3.8/site-packages (from joeynmt==0.0.1) (0.6.0)\nRequirement already satisfied: torchtext in /home/niklaskorz/.local/lib/python3.8/site-packages (from joeynmt==0.0.1) (0.7.0)\nRequirement already satisfied: wrapt==1.11.1 in /home/niklaskorz/.local/lib/python3.8/site-packages (from joeynmt==0.0.1) (1.11.1)\nRequirement already satisfied: python-dateutil>=2.1 in /home/niklaskorz/.local/lib/python3.8/site-packages (from matplotlib->joeynmt==0.0.1) (2.8.1)\nRequirement already satisfied: certifi>=2020.06.20 in /home/niklaskorz/.local/lib/python3.8/site-packages (from matplotlib->joeynmt==0.0.1) (2020.6.20)\nRequirement already satisfied: cycler>=0.10 in /home/niklaskorz/.local/lib/python3.8/site-packages (from matplotlib->joeynmt==0.0.1) (0.10.0)\nRequirement already satisfied: kiwisolver>=1.0.1 in /home/niklaskorz/.local/lib/python3.8/site-packages (from matplotlib->joeynmt==0.0.1) (1.2.0)\nRequirement already satisfied: pyparsing!=2.0.4,!=2.1.2,!=2.1.6,>=2.0.3 in /home/niklaskorz/.local/lib/python3.8/site-packages (from matplotlib->joeynmt==0.0.1) (2.4.7)\nRequirement already satisfied: isort<6,>=4.2.5 in /home/niklaskorz/.local/lib/python3.8/site-packages (from pylint->joeynmt==0.0.1) (5.5.3)\nRequirement already satisfied: toml>=0.7.1 in /home/niklaskorz/.local/lib/python3.8/site-packages (from pylint->joeynmt==0.0.1) (0.10.1)\nRequirement already satisfied: astroid<=2.5,>=2.4.0 in /home/niklaskorz/.local/lib/python3.8/site-packages (from pylint->joeynmt==0.0.1) (2.4.2)\nRequirement already satisfied: mccabe<0.7,>=0.6 in /home/niklaskorz/.local/lib/python3.8/site-packages (from pylint->joeynmt==0.0.1) (0.6.1)\nRequirement already satisfied: portalocker in /home/niklaskorz/.local/lib/python3.8/site-packages (from sacrebleu>=1.3.6->joeynmt==0.0.1) (2.0.0)\nRequirement already satisfied: pandas>=0.23 in /home/niklaskorz/.local/lib/python3.8/site-packages (from seaborn->joeynmt==0.0.1) (1.1.2)\nRequirement already satisfied: scipy>=1.0 in /home/niklaskorz/.local/lib/python3.8/site-packages (from seaborn->joeynmt==0.0.1) (1.5.2)\nRequirement already satisfied: google-pasta>=0.1.8 in /home/niklaskorz/.local/lib/python3.8/site-packages (from tensorflow>=1.14->joeynmt==0.0.1) (0.2.0)\nRequirement already satisfied: protobuf>=3.9.2 in /home/niklaskorz/.local/lib/python3.8/site-packages (from tensorflow>=1.14->joeynmt==0.0.1) (3.13.0)\nRequirement already satisfied: astunparse==1.6.3 in /home/niklaskorz/.local/lib/python3.8/site-packages (from tensorflow>=1.14->joeynmt==0.0.1) (1.6.3)\nRequirement already satisfied: absl-py>=0.7.0 in /home/niklaskorz/.local/lib/python3.8/site-packages (from tensorflow>=1.14->joeynmt==0.0.1) (0.10.0)\nRequirement already satisfied: tensorflow-estimator<2.4.0,>=2.3.0 in /home/niklaskorz/.local/lib/python3.8/site-packages (from tensorflow>=1.14->joeynmt==0.0.1) (2.3.0)\nRequirement already satisfied: keras-preprocessing<1.2,>=1.1.1 in /home/niklaskorz/.local/lib/python3.8/site-packages (from tensorflow>=1.14->joeynmt==0.0.1) (1.1.2)\nRequirement already satisfied: tensorboard<3,>=2.3.0 in /home/niklaskorz/.local/lib/python3.8/site-packages (from tensorflow>=1.14->joeynmt==0.0.1) (2.3.0)\nRequirement already satisfied: gast==0.3.3 in /home/niklaskorz/.local/lib/python3.8/site-packages (from tensorflow>=1.14->joeynmt==0.0.1) (0.3.3)\nRequirement already satisfied: grpcio>=1.8.6 in /home/niklaskorz/.local/lib/python3.8/site-packages (from tensorflow>=1.14->joeynmt==0.0.1) (1.32.0)\nRequirement already satisfied: opt-einsum>=2.3.2 in /home/niklaskorz/.local/lib/python3.8/site-packages (from tensorflow>=1.14->joeynmt==0.0.1) (3.3.0)\nRequirement already satisfied: wheel>=0.26 in /usr/lib/python3/dist-packages (from tensorflow>=1.14->joeynmt==0.0.1) (0.34.2)\nRequirement already satisfied: h5py<2.11.0,>=2.10.0 in /home/niklaskorz/.local/lib/python3.8/site-packages (from tensorflow>=1.14->joeynmt==0.0.1) (2.10.0)\nRequirement already satisfied: termcolor>=1.1.0 in /home/niklaskorz/.local/lib/python3.8/site-packages (from tensorflow>=1.14->joeynmt==0.0.1) (1.1.0)\nRequirement already satisfied: sentencepiece in /home/niklaskorz/.local/lib/python3.8/site-packages (from torchtext->joeynmt==0.0.1) (0.1.91)\nRequirement already satisfied: tqdm in /home/niklaskorz/.local/lib/python3.8/site-packages (from torchtext->joeynmt==0.0.1) (4.49.0)\nRequirement already satisfied: requests in /usr/lib/python3/dist-packages (from torchtext->joeynmt==0.0.1) (2.22.0)\nRequirement already satisfied: lazy-object-proxy==1.4.* in /home/niklaskorz/.local/lib/python3.8/site-packages (from astroid<=2.5,>=2.4.0->pylint->joeynmt==0.0.1) (1.4.3)\nRequirement already satisfied: pytz>=2017.2 in /home/niklaskorz/.local/lib/python3.8/site-packages (from pandas>=0.23->seaborn->joeynmt==0.0.1) (2020.1)\nRequirement already satisfied: tensorboard-plugin-wit>=1.6.0 in /home/niklaskorz/.local/lib/python3.8/site-packages (from tensorboard<3,>=2.3.0->tensorflow>=1.14->joeynmt==0.0.1) (1.7.0)\nRequirement already satisfied: google-auth-oauthlib<0.5,>=0.4.1 in /home/niklaskorz/.local/lib/python3.8/site-packages (from tensorboard<3,>=2.3.0->tensorflow>=1.14->joeynmt==0.0.1) (0.4.1)\nRequirement already satisfied: google-auth<2,>=1.6.3 in /home/niklaskorz/.local/lib/python3.8/site-packages (from tensorboard<3,>=2.3.0->tensorflow>=1.14->joeynmt==0.0.1) (1.21.2)\nRequirement already satisfied: werkzeug>=0.11.15 in /home/niklaskorz/.local/lib/python3.8/site-packages (from tensorboard<3,>=2.3.0->tensorflow>=1.14->joeynmt==0.0.1) (1.0.1)\nRequirement already satisfied: markdown>=2.6.8 in /home/niklaskorz/.local/lib/python3.8/site-packages (from tensorboard<3,>=2.3.0->tensorflow>=1.14->joeynmt==0.0.1) (3.2.2)\nRequirement already satisfied: requests-oauthlib>=0.7.0 in /home/niklaskorz/.local/lib/python3.8/site-packages (from google-auth-oauthlib<0.5,>=0.4.1->tensorboard<3,>=2.3.0->tensorflow>=1.14->joeynmt==0.0.1) (1.3.0)\nRequirement already satisfied: pyasn1-modules>=0.2.1 in /usr/lib/python3/dist-packages (from google-auth<2,>=1.6.3->tensorboard<3,>=2.3.0->tensorflow>=1.14->joeynmt==0.0.1) (0.2.1)\nRequirement already satisfied: rsa<5,>=3.1.4; python_version >= \"3.5\" in /home/niklaskorz/.local/lib/python3.8/site-packages (from google-auth<2,>=1.6.3->tensorboard<3,>=2.3.0->tensorflow>=1.14->joeynmt==0.0.1) (4.6)\nRequirement already satisfied: cachetools<5.0,>=2.0.0 in /home/niklaskorz/.local/lib/python3.8/site-packages (from google-auth<2,>=1.6.3->tensorboard<3,>=2.3.0->tensorflow>=1.14->joeynmt==0.0.1) (4.1.1)\nRequirement already satisfied: oauthlib>=3.0.0 in /usr/lib/python3/dist-packages (from requests-oauthlib>=0.7.0->google-auth-oauthlib<0.5,>=0.4.1->tensorboard<3,>=2.3.0->tensorflow>=1.14->joeynmt==0.0.1) (3.1.0)\nRequirement already satisfied: pyasn1>=0.1.3 in /usr/lib/python3/dist-packages (from rsa<5,>=3.1.4; python_version >= \"3.5\"->google-auth<2,>=1.6.3->tensorboard<3,>=2.3.0->tensorflow>=1.14->joeynmt==0.0.1) (0.4.2)\nBuilding wheels for collected packages: joeynmt\n  Building wheel for joeynmt (setup.py) ... \u001b[?25ldone\n\u001b[?25h  Created wheel for joeynmt: filename=joeynmt-0.0.1-py3-none-any.whl size=79663 sha256=e1c7a8c60d200559b737d7a44d65f0065712a49632c60f51a5dcef201f4b000c\n  Stored in directory: /tmp/pip-ephem-wheel-cache-c_3d0qal/wheels/4c/b8/4f/7867a873f952a83f087ce544bbea59bf5632096cd6cb58d3c4\nSuccessfully built joeynmt\nInstalling collected packages: joeynmt\n  Attempting uninstall: joeynmt\n    Found existing installation: joeynmt 0.0.1\n    Uninstalling joeynmt-0.0.1:\n      Successfully uninstalled joeynmt-0.0.1\nSuccessfully installed joeynmt-0.0.1\n"
    }
   ]
  },
  {
   "cell_type": "code",
   "execution_count": 3,
   "metadata": {
    "tags": []
   },
   "outputs": [
    {
     "output_type": "stream",
     "name": "stdout",
     "text": "5%|██                                     | 128M/2.33G [00:04<01:26, 27.3MB/s]^C\n  6%|██▏                                    | 132M/2.33G [00:05<01:27, 27.1MB/s]\nTraceback (most recent call last):\n  File \"/usr/lib/python3.8/runpy.py\", line 193, in _run_module_as_main\n    return _run_code(code, main_globals, None,\n  File \"/usr/lib/python3.8/runpy.py\", line 86, in _run_code\n    exec(code, run_globals)\n  File \"/home/niklaskorz/dev/studium/s2tnmt/joeynmt/__main__.py\", line 41, in <module>\n    main()\n  File \"/home/niklaskorz/dev/studium/s2tnmt/joeynmt/__main__.py\", line 29, in main\n    train(cfg_file=args.config_path)\n  File \"/home/niklaskorz/dev/studium/s2tnmt/joeynmt/training.py\", line 706, in train\n    train_data, dev_data, test_data, trg_vocab = load_data(\n  File \"/home/niklaskorz/dev/studium/s2tnmt/joeynmt/data.py\", line 104, in load_data\n    train_data_torchaudio = COMMONVOICE('CommonVoice', language=language, download=True)\n  File \"/home/niklaskorz/dev/studium/s2tnmt/joeynmt/datasets/commonvoice.py\", line 130, in __init__\n    download_url(url, root, hash_value=checksum)\n  File \"/home/niklaskorz/.local/lib/python3.8/site-packages/torchaudio/datasets/utils.py\", line 153, in download_url\n    for chunk in stream_url(url, start_byte=local_size, progress_bar=progress_bar):\n  File \"/home/niklaskorz/.local/lib/python3.8/site-packages/torchaudio/datasets/utils.py\", line 97, in stream_url\n    chunk = upointer.read(block_size)\n  File \"/usr/lib/python3.8/http/client.py\", line 454, in read\n    n = self.readinto(b)\n  File \"/usr/lib/python3.8/http/client.py\", line 498, in readinto\n    n = self.fp.readinto(b)\n  File \"/usr/lib/python3.8/socket.py\", line 669, in readinto\n    return self._sock.recv_into(b)\n  File \"/usr/lib/python3.8/ssl.py\", line 1241, in recv_into\n    return self.read(nbytes, buffer)\n  File \"/usr/lib/python3.8/ssl.py\", line 1099, in read\n    return self._sslobj.read(len, buffer)\nKeyboardInterrupt\n"
    }
   ],
   "source": [
    "!python3 -m joeynmt train configs/reverse.yaml"
   ]
  },
  {
   "cell_type": "code",
   "execution_count": null,
   "metadata": {},
   "outputs": [],
   "source": []
  }
 ]
}